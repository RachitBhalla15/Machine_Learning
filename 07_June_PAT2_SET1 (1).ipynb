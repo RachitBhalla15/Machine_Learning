{
  "cells": [
    {
      "cell_type": "code",
      "execution_count": null,
      "metadata": {
        "id": "j8erpTBXDGvV"
      },
      "outputs": [],
      "source": [
        "import matplotlib.pyplot as plt\n",
        "import numpy as np\n",
        "import pandas as pd\n",
        "import seaborn as sns; \n",
        "import statsmodels.api as sm\n",
        "import random"
      ]
    },
    {
      "cell_type": "markdown",
      "metadata": {
        "id": "3eDT9hwZDGvh"
      },
      "source": [
        " <font color='red'>  Read the dataset  'pml_eval.csv' -  </font>"
      ]
    },
    {
      "cell_type": "code",
      "execution_count": null,
      "metadata": {
        "id": "p6kctIQ3DGvp"
      },
      "outputs": [],
      "source": []
    },
    {
      "cell_type": "markdown",
      "metadata": {
        "id": "6nrdOAIaDGvr"
      },
      "source": [
        " <font color='Magenta'>DataSet Description </font>"
      ]
    },
    {
      "cell_type": "markdown",
      "metadata": {
        "id": "FOqJyeVCDGvu"
      },
      "source": [
        "\n",
        "\n",
        "1 Gender - student's gender (nominal: 'Male' or 'Female’)\n",
        "\n",
        "2 Nationality- student's nationality (nominal:’ Kuwait’,’ Lebanon’,’ Egypt’,’ SaudiArabia’,’ USA’,’ Jordan’,’ Venezuela’,’ Iran’,’ Tunis’,’ Morocco’,’ Syria’,’ Palestine’,’ Iraq’,’ Lybia’)\n",
        "\n",
        "3 Place of birth- student's Place of birth (nominal:’ Kuwait’,’ Lebanon’,’ Egypt’,’ SaudiArabia’,’ USA’,’ Jordan’,’ Venezuela’,’ Iran’,’ Tunis’,’ Morocco’,’ Syria’,’ Palestine’,’ Iraq’,’ Lybia’)\n",
        "\n",
        "4 Educational Stages- educational level student belongs (nominal: ‘lowerlevel’,’MiddleSchool’,’HighSchool’)\n",
        "\n",
        "5 Grade Levels- grade student belongs (nominal: ‘G-01’, ‘G-02’, ‘G-03’, ‘G-04’, ‘G-05’, ‘G-06’, ‘G-07’, ‘G-08’, ‘G-09’, ‘G-10’, ‘G-11’, ‘G-12 ‘)\n",
        "\n",
        "6 Section ID- classroom student belongs (nominal:’A’,’B’,’C’)\n",
        "\n",
        "7 Topic- course topic (nominal:’ English’,’ Spanish’, ‘French’,’ Arabic’,’ IT’,’ Math’,’ Chemistry’, ‘Biology’, ‘Science’,’ History’,’ Quran’,’ Geology’)\n",
        "\n",
        "8 Semester- school year semester (nominal:’ First’,’ Second’)\n",
        "\n",
        "9 Parent responsible for student (nominal:’mom’,’father’)\n",
        "\n",
        "10 Raised hand- how many times the student raises his/her hand on classroom (numeric:0-100)\n",
        "\n",
        "11- Visited resources- how many times the student visits a course content(numeric:0-100)\n",
        "\n",
        "12 Viewing announcements-how many times the student checks the new announcements(numeric:0-100)\n",
        "\n",
        "13 Discussion groups- how many times the student participate on discussion groups (numeric:0-100)\n",
        "\n",
        "14 Parent Answering Survey- parent answered the surveys which are provided from school or not (nominal:’Yes’,’No’)\n",
        "\n",
        "15 Parent School Satisfaction- the Degree of parent satisfaction from school(nominal:’Yes’,’No’)\n",
        "\n",
        "16 Student Absence Days-the number of absence days for each student (nominal: above-7, under-7)"
      ]
    },
    {
      "cell_type": "markdown",
      "source": [
        "#Questions"
      ],
      "metadata": {
        "id": "vkv9-ivIJ9JA"
      }
    },
    {
      "cell_type": "markdown",
      "metadata": {
        "id": "DIsfOrElDGv4"
      },
      "source": [
        "<font color='red'> Ques.1 Find any missing values and do the visulaization of the missing values.  For example in 'raisedhands' if any missing values are there do the plotting on total rows Vs. how many rows have an issue. (2 Marks)</font>"
      ]
    },
    {
      "cell_type": "code",
      "execution_count": null,
      "metadata": {
        "id": "2adMevf9DGv6"
      },
      "outputs": [],
      "source": []
    },
    {
      "cell_type": "markdown",
      "metadata": {
        "id": "d21CoKqDDGv7"
      },
      "source": [
        "<font color='red'> Ques.2 FIll the missing value (Mean- raisedhands ; Mode - AnnouncementsView) (2 Marks)"
      ]
    },
    {
      "cell_type": "code",
      "execution_count": null,
      "metadata": {
        "id": "Uy8YRWu8DGv9"
      },
      "outputs": [],
      "source": []
    },
    {
      "cell_type": "markdown",
      "metadata": {
        "id": "aaQH_Q2-DGwD"
      },
      "source": [
        "<font color='red'>Ques.3 GradeID ranges from G-01 to G-12 [Ex.G-02, G-03, G-11 ] . Assume that the grades also ranges from 1 to 12. Convert the GradeIDs into Grades as per our assumption. ( 2 Marks)"
      ]
    },
    {
      "cell_type": "code",
      "execution_count": null,
      "metadata": {
        "id": "U18wFIzHDGwF"
      },
      "outputs": [],
      "source": []
    },
    {
      "cell_type": "markdown",
      "metadata": {
        "id": "sF2AsR-TDGwG"
      },
      "source": [
        "<font color='red'>Ques.4 If the grade/class(H,M and L) is high then the absent days are low. Verify the statemet by using visualization   (2 Marks)"
      ]
    },
    {
      "cell_type": "code",
      "execution_count": null,
      "metadata": {
        "id": "jjjW4CYKDGwH"
      },
      "outputs": [],
      "source": []
    },
    {
      "cell_type": "markdown",
      "metadata": {
        "id": "t14n19GbDGwM"
      },
      "source": [
        "<font color='red'>Ques.5 After converting the GradeIDs in to Grades - Draw the histogram then apply z Score => again plot histogram ( 2 Marks)"
      ]
    },
    {
      "cell_type": "code",
      "execution_count": null,
      "metadata": {
        "id": "mdmq8NemDGwM"
      },
      "outputs": [],
      "source": []
    },
    {
      "cell_type": "markdown",
      "metadata": {
        "id": "kcG8eZp3DGwN"
      },
      "source": [
        "<font color='red'>Ques.6 After pre processing plot heat map between each variable ( 2 Marks)"
      ]
    },
    {
      "cell_type": "code",
      "execution_count": null,
      "metadata": {
        "id": "SQokknl7DGwO"
      },
      "outputs": [],
      "source": []
    },
    {
      "cell_type": "markdown",
      "source": [
        "<font color='red'>Ques.7 Find the problem statement from the given data set and build the model (6 Marks)"
      ],
      "metadata": {
        "id": "gpZm8174EdF8"
      }
    },
    {
      "cell_type": "code",
      "source": [],
      "metadata": {
        "id": "YDUg8xp-EvVB"
      },
      "execution_count": null,
      "outputs": []
    },
    {
      "cell_type": "markdown",
      "source": [
        "<font color='red'>Ques.8 Display the performance metrics based on your problem statement (2 Marks)"
      ],
      "metadata": {
        "id": "yvLzNQs5Ev8D"
      }
    },
    {
      "cell_type": "code",
      "source": [],
      "metadata": {
        "id": "3v9iAux3FJ28"
      },
      "execution_count": null,
      "outputs": []
    }
  ],
  "metadata": {
    "kernelspec": {
      "display_name": "Python 3",
      "language": "python",
      "name": "python3"
    },
    "language_info": {
      "codemirror_mode": {
        "name": "ipython",
        "version": 3
      },
      "file_extension": ".py",
      "mimetype": "text/x-python",
      "name": "python",
      "nbconvert_exporter": "python",
      "pygments_lexer": "ipython3",
      "version": "3.7.3"
    },
    "colab": {
      "provenance": []
    }
  },
  "nbformat": 4,
  "nbformat_minor": 0
}